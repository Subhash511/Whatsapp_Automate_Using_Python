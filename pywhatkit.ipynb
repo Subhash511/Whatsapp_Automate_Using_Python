{
 "cells": [
  {
   "cell_type": "code",
   "execution_count": 11,
   "metadata": {},
   "outputs": [],
   "source": [
    "import pywhatkit as kit\n",
    "import pyautogui\n",
    "import time"
   ]
  },
  {
   "cell_type": "code",
   "execution_count": 12,
   "metadata": {},
   "outputs": [],
   "source": [
    "def send_whatsapp_message(phone_number, message):\n",
    "    # Use pywhatkit to open WhatsApp Web and type the message\n",
    "    kit.sendwhatmsg_instantly(phone_number, message)\n",
    "\n",
    "    # Wait for WhatsApp Web to load and the message to be typed (about 20 seconds)\n",
    "    time.sleep(5)  # Adjust this based on your network speed\n",
    "\n",
    "    # Use pyautogui to simulate pressing the \"Enter\" key to send the message\n",
    "    pyautogui.press('enter')"
   ]
  },
  {
   "cell_type": "code",
   "execution_count": 16,
   "metadata": {},
   "outputs": [],
   "source": [
    "# List of phone numbers (in international format with country code)\n",
    "phone_numbers = [\n",
    "    \"+919717194406\",\n",
    "    \"+919205892840\",\n",
    "    \"+919319570011\",\n",
    "    \"+919810860581\",\n",
    "    \"+919205892848\",\n",
    "]\n",
    "message = \"Hello, this message send using pywhatkit python\""
   ]
  },
  {
   "cell_type": "code",
   "execution_count": 15,
   "metadata": {},
   "outputs": [],
   "source": [
    "for number in phone_numbers:\n",
    "    send_whatsapp_message(phone_number=number, message=message)"
   ]
  }
 ],
 "metadata": {
  "kernelspec": {
   "display_name": "env",
   "language": "python",
   "name": "python3"
  },
  "language_info": {
   "codemirror_mode": {
    "name": "ipython",
    "version": 3
   },
   "file_extension": ".py",
   "mimetype": "text/x-python",
   "name": "python",
   "nbconvert_exporter": "python",
   "pygments_lexer": "ipython3",
   "version": "3.12.4"
  }
 },
 "nbformat": 4,
 "nbformat_minor": 2
}
