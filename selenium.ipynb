{
 "cells": [
  {
   "cell_type": "code",
   "execution_count": 6,
   "metadata": {},
   "outputs": [],
   "source": [
    "from selenium import webdriver\n",
    "from selenium.webdriver.common.keys import Keys\n",
    "import time"
   ]
  },
  {
   "cell_type": "code",
   "execution_count": 7,
   "metadata": {},
   "outputs": [],
   "source": [
    "driver = webdriver.Chrome()\n",
    "driver.get('https://web.whatsapp.com')"
   ]
  },
  {
   "cell_type": "code",
   "execution_count": 8,
   "metadata": {},
   "outputs": [
    {
     "data": {
      "text/plain": [
       "''"
      ]
     },
     "execution_count": 8,
     "metadata": {},
     "output_type": "execute_result"
    }
   ],
   "source": [
    "# Wait for the user to scan the QR code\n",
    "input(\"Press Enter after scanning QR code in WhatsApp Web...\")"
   ]
  },
  {
   "cell_type": "code",
   "execution_count": 9,
   "metadata": {},
   "outputs": [],
   "source": [
    "def send_whatsapp_message(driver, phone_number, message):\n",
    "    # Open WhatsApp Web for the given number\n",
    "    url = f\"https://web.whatsapp.com/send?phone={phone_number}&text={message}\"\n",
    "    driver.get(url)\n",
    "\n",
    "    # Wait for WhatsApp Web to load the chat\n",
    "    time.sleep(10)  # Adjust this based on your internet speed\n",
    "\n",
    "    # Find the message box and send the message by pressing Enter\n",
    "    message_box = driver.find_element(\"xpath\", '//*[@id=\"main\"]/footer/div[1]/div/span/div/div[2]/div[2]/button')\n",
    "    message_box.send_keys(Keys.ENTER)"
   ]
  },
  {
   "cell_type": "code",
   "execution_count": 10,
   "metadata": {},
   "outputs": [],
   "source": [
    "# List of phone numbers (in international format with country code)\n",
    "phone_numbers = [\n",
    "    \"+919717194406\",\n",
    "    \"+919205892840\",\n",
    "    \"+919319570011\",\n",
    "    \"+919810860581\",\n",
    "    \"+919205892848\",\n",
    "]\n",
    "message = \"Hello, this message send using selenium python\""
   ]
  },
  {
   "cell_type": "code",
   "execution_count": 11,
   "metadata": {},
   "outputs": [
    {
     "name": "stdout",
     "output_type": "stream",
     "text": [
      "Sending message to +917827609529...\n",
      "Sending message to +917827560815...\n",
      "Sending message to +919794456583...\n"
     ]
    }
   ],
   "source": [
    "# Loop through the list of phone numbers and send the message\n",
    "for phone_number in phone_numbers:\n",
    "    print(f\"Sending message to {phone_number}...\")\n",
    "    send_whatsapp_message(driver, phone_number, message)\n",
    "    \n",
    "    # Wait before sending the next message\n",
    "    time.sleep(5)\n",
    "\n",
    "# Close the browser after all messages are sent\n",
    "driver.quit()"
   ]
  }
 ],
 "metadata": {
  "kernelspec": {
   "display_name": "env",
   "language": "python",
   "name": "python3"
  },
  "language_info": {
   "codemirror_mode": {
    "name": "ipython",
    "version": 3
   },
   "file_extension": ".py",
   "mimetype": "text/x-python",
   "name": "python",
   "nbconvert_exporter": "python",
   "pygments_lexer": "ipython3",
   "version": "3.12.4"
  }
 },
 "nbformat": 4,
 "nbformat_minor": 2
}
